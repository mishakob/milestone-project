{
 "cells": [
  {
   "cell_type": "code",
   "execution_count": null,
   "metadata": {
    "collapsed": true
   },
   "outputs": [],
   "source": [
    "from pandas import DataFrame, to_datetime\n",
    "import pandas\n",
    "import numpy as np\n",
    "import json\n",
    "import requests\n",
    "import time\n",
    "from datetime import datetime,timedelta\n",
    "from bokeh.plotting import figure, output_file, show\n",
    "from bokeh import embed"
   ]
  },
  {
   "cell_type": "code",
   "execution_count": null,
   "metadata": {
    "collapsed": true
   },
   "outputs": [],
   "source": [
    "# get list of the checked features\n",
    "#features = request.form.getlist('feature')\n",
    "features = "
   ]
  },
  {
   "cell_type": "code",
   "execution_count": null,
   "metadata": {
    "collapsed": true
   },
   "outputs": [],
   "source": [
    "# capture the ticker input from the user\n",
    "#ticker = request.form['ticker']\n",
    "ticker = "
   ]
  },
  {
   "cell_type": "code",
   "execution_count": null,
   "metadata": {
    "collapsed": true
   },
   "outputs": [],
   "source": [
    "# calculate one month time period from now\n",
    "now = datetime.now()\n",
    "end_date = now.strftime('%Y-%m-%d') \n",
    "start_date = (now - timedelta(days=30)).strftime('%Y-%m-%d')"
   ]
  }
 ],
 "metadata": {
  "kernelspec": {
   "display_name": "Python 2",
   "language": "python",
   "name": "python2"
  },
  "language_info": {
   "codemirror_mode": {
    "name": "ipython",
    "version": 2
   },
   "file_extension": ".py",
   "mimetype": "text/x-python",
   "name": "python",
   "nbconvert_exporter": "python",
   "pygments_lexer": "ipython2",
   "version": "2.7.10"
  }
 },
 "nbformat": 4,
 "nbformat_minor": 0
}
